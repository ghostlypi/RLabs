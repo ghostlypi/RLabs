{
 "cells": [
  {
   "cell_type": "code",
   "execution_count": 1,
   "metadata": {},
   "outputs": [],
   "source": [
    "import pandas as pd\n",
    "pd.options.display.max_rows = 999\n",
    "import math\n",
    "import matplotlib.pyplot as plt\n",
    "import pylab \n",
    "import scipy.stats as stats\n",
    "from sklearn.metrics import r2_score\n",
    "import numpy as np\n",
    "from statsmodels.formula.api import ols\n",
    "from statsmodels.stats.power import TTestPower\n",
    "from statsmodels.stats.power import FTestPower\n",
    "def rmnan(arr):\n",
    "    cleanedset = arr\n",
    "    rmarr = list()\n",
    "    for i in range(len(cleanedset)):\n",
    "        if math.isnan(cleanedset[i]):\n",
    "            rmarr.append(i-len(rmarr))\n",
    "    for i in rmarr:\n",
    "        cleanedset.pop(i)\n",
    "    return cleanedset\n",
    "\n",
    "def mean(arr):\n",
    "    return sum(arr)/len(arr)\n",
    "\n",
    "def median(arr):\n",
    "    arr = sorted(arr)\n",
    "    return (arr[math.ceil(len(arr)/2)]+arr[math.floor(len(arr)/2)])/2\n",
    "\n",
    "def vartype(arr):\n",
    "    catquant = list()\n",
    "    for i in range(len(arr[0])):\n",
    "        if(type(arr[0][i]) == int):\n",
    "            catquant.append(\"Quantitative\")\n",
    "        elif(type(arr[0][i]) == float):\n",
    "            catquant.append(\"Quantitative\")\n",
    "        else:\n",
    "            catquant.append(\"Categorical\")\n",
    "    return catquant\n",
    "\n",
    "def stdev(arr):\n",
    "    avg = mean(arr)\n",
    "    total = 0;\n",
    "    for i in arr:\n",
    "        total += math.pow(i-avg,2)\n",
    "    return math.sqrt(total/(len(arr)-1))\n",
    "\n",
    "def IQR(arr):\n",
    "    arr = sorted(arr)\n",
    "    q1 = (arr[math.ceil(len(arr)/4)]+arr[math.floor(len(arr)/4)])/2\n",
    "    q3 = (arr[math.ceil(3*len(arr)/4)]+arr[math.floor(3*len(arr)/4)])/2\n",
    "    return q3-q1;\n",
    "\n",
    "def favstats(arr):\n",
    "    arr = sorted(arr)\n",
    "    q1 = (arr[math.ceil(len(arr)/4)]+arr[math.floor(len(arr)/4)])/2\n",
    "    q3 = (arr[math.ceil(3*len(arr)/4)]+arr[math.floor(3*len(arr)/4)])/2\n",
    "    med = median(arr)\n",
    "    return [min(arr),q1,med,q3,max(arr)]\n",
    "\n",
    "def quantile(arr,num=4):\n",
    "    arr = sorted(arr)\n",
    "    out = list();\n",
    "    for i in range(num):\n",
    "        print(arr[int(len(arr)*i/num)])\n",
    "        out.append(arr[int(len(arr)*i/num)])\n",
    "    out.append(arr[len(arr)-1])\n",
    "    return out"
   ]
  },
  {
   "cell_type": "code",
   "execution_count": 5,
   "metadata": {},
   "outputs": [
    {
     "name": "stdout",
     "output_type": "stream",
     "text": [
      "35\n",
      "0.7714285714285715\n"
     ]
    },
    {
     "data": {
      "text/plain": [
       "2.951427513890168"
      ]
     },
     "execution_count": 5,
     "metadata": {},
     "output_type": "execute_result"
    }
   ],
   "source": [
    "rd=[3, 1, -1, -4, -2, 5, 2, 1, 1, -1, 3, -4, 4, 2, 1, 1, -1, 6, 10, 2, -1, -2, 3, 2, 1, -1, 3, 2, -1, -2, 1, -3, -1, 1, -4]\n",
    "print(len(rd))\n",
    "print(mean(rd))\n",
    "stdev(rd)"
   ]
  },
  {
   "cell_type": "code",
   "execution_count": 8,
   "metadata": {},
   "outputs": [
    {
     "name": "stdout",
     "output_type": "stream",
     "text": [
      "35\n",
      "3.085714285714286\n",
      "5.112679903760779\n"
     ]
    }
   ],
   "source": [
    "arr=[5, 7, 10, -3, -4, 5, 6, 3, 2, 3, 7, 4, 6, -4, 2, 2, 14, 2, 3 ,-1, 9, 3, -3, 8, 2, -3, 2, -5, 7, -2, 12, 5, -9, 9, 4]\n",
    "print(len(arr))\n",
    "print(mean(arr))\n",
    "print(stdev(arr))"
   ]
  },
  {
   "cell_type": "code",
   "execution_count": 11,
   "metadata": {
    "scrolled": true
   },
   "outputs": [
    {
     "data": {
      "text/plain": [
       "<matplotlib.axes._subplots.AxesSubplot at 0x1784773b6c8>"
      ]
     },
     "execution_count": 11,
     "metadata": {},
     "output_type": "execute_result"
    },
    {
     "data": {
      "image/png": "[encoded data removed]",
      "text/plain": [
       "<Figure size 432x288 with 1 Axes>"
      ]
     },
     "metadata": {
      "needs_background": "light"
     },
     "output_type": "display_data"
    }
   ],
   "source": [
    "darr = pd.DataFrame(arr,columns=[\"looks\"])\n",
    "darr.boxplot(\"looks\")"
   ]
  },
  {
   "cell_type": "code",
   "execution_count": 13,
   "metadata": {},
   "outputs": [
    {
     "data": {
      "text/plain": [
       "0.864200634745681"
      ]
     },
     "execution_count": 13,
     "metadata": {},
     "output_type": "execute_result"
    }
   ],
   "source": [
    "stdev(arr)/math.sqrt(len(arr))"
   ]
  }
 ],
 "metadata": {
  "kernelspec": {
   "display_name": "Python 3",
   "language": "python",
   "name": "python3"
  },
  "language_info": {
   "codemirror_mode": {
    "name": "ipython",
    "version": 3
   },
   "file_extension": ".py",
   "mimetype": "text/x-python",
   "name": "python",
   "nbconvert_exporter": "python",
   "pygments_lexer": "ipython3",
   "version": "3.7.7"
  }
 },
 "nbformat": 4,
 "nbformat_minor": 4
}
