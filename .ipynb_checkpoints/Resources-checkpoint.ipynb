{
 "cells": [
  {
   "cell_type": "code",
   "execution_count": 1,
   "metadata": {},
   "outputs": [],
   "source": [
    "import pandas as pd\n",
    "import math"
   ]
  },
  {
   "cell_type": "code",
   "execution_count": 2,
   "metadata": {},
   "outputs": [],
   "source": [
    "def rmnan(arr):\n",
    "    cleanedset = arr\n",
    "    rmarr = list()\n",
    "    for i in range(len(cleanedset)):\n",
    "        if math.isnan(cleanedset[i][1]):\n",
    "            rmarr.append(i-len(rmarr))\n",
    "    for i in rmarr:\n",
    "        cleanedset.pop(i)\n",
    "    return cleanedset"
   ]
  },
  {
   "cell_type": "code",
   "execution_count": 3,
   "metadata": {},
   "outputs": [],
   "source": [
    "def mean(arr):\n",
    "    return sum(arr)/len(arr)"
   ]
  },
  {
   "cell_type": "code",
   "execution_count": 4,
   "metadata": {},
   "outputs": [],
   "source": [
    "def median(arr):\n",
    "    return (arr[math.ceil(len(arr)/2)]+arr[math.floor(len(arr)/2)])/2"
   ]
  },
  {
   "cell_type": "code",
   "execution_count": 5,
   "metadata": {},
   "outputs": [],
   "source": [
    "def vartype(arr):\n",
    "    catquant = list()\n",
    "    for i in range(len(arr[0])):\n",
    "        if(type(arr[0][i]) == int):\n",
    "            catquant.append(\"Quantitative\")\n",
    "        elif(type(arr[0][i]) == float):\n",
    "            catquant.append(\"Quantitative\")\n",
    "        else:\n",
    "            catquant.append(\"Categorical\")\n",
    "    return catquant"
   ]
  },
  {
   "cell_type": "code",
   "execution_count": 6,
   "metadata": {},
   "outputs": [],
   "source": [
    "def stdev(arr):\n",
    "    avg = mean(arr)\n",
    "    total = 0;\n",
    "    for i in arr:\n",
    "        total += math.pow(i-avg,2)\n",
    "    return math.sqrt(total/(len(arr)-1))"
   ]
  },
  {
   "cell_type": "code",
   "execution_count": 7,
   "metadata": {},
   "outputs": [],
   "source": [
    "def IQR(arr):\n",
    "    q1 = (arr[math.ceil(len(arr)/4)]+arr[math.floor(len(arr)/4)])/2\n",
    "    q3 = (arr[math.ceil(3*len(arr)/4)]+arr[math.floor(3*len(arr)/4)])/2\n",
    "    return q3-q1;"
   ]
  }
 ],
 "metadata": {
  "kernelspec": {
   "display_name": "Python 3",
   "language": "python",
   "name": "python3"
  },
  "language_info": {
   "codemirror_mode": {
    "name": "ipython",
    "version": 3
   },
   "file_extension": ".py",
   "mimetype": "text/x-python",
   "name": "python",
   "nbconvert_exporter": "python",
   "pygments_lexer": "ipython3",
   "version": "3.7.6"
  }
 },
 "nbformat": 4,
 "nbformat_minor": 4
}
